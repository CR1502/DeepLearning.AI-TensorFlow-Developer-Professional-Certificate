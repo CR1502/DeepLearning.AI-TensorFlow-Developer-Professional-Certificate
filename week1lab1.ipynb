{
  "nbformat": 4,
  "nbformat_minor": 0,
  "metadata": {
    "colab": {
      "provenance": [],
      "authorship_tag": "ABX9TyO754ZZOOAjUW4se0PjZjL6",
      "include_colab_link": true
    },
    "kernelspec": {
      "name": "python3",
      "display_name": "Python 3"
    },
    "language_info": {
      "name": "python"
    }
  },
  "cells": [
    {
      "cell_type": "markdown",
      "metadata": {
        "id": "view-in-github",
        "colab_type": "text"
      },
      "source": [
        "<a href=\"https://colab.research.google.com/github/CR1502/DeepLearning.AI-TensorFlow-Developer-Professional-Certificate/blob/main/week1lab1.ipynb\" target=\"_parent\"><img src=\"https://colab.research.google.com/assets/colab-badge.svg\" alt=\"Open In Colab\"/></a>"
      ]
    },
    {
      "cell_type": "code",
      "execution_count": 1,
      "metadata": {
        "id": "JRBocHnOBpTB"
      },
      "outputs": [],
      "source": [
        "# importing the required libraries\n",
        "\n",
        "import numpy as np\n",
        "import tensorflow as tf\n",
        "from tensorflow import keras"
      ]
    },
    {
      "cell_type": "code",
      "source": [
        "# Building the neural network\n",
        "# This will be a sequential network with a single neuron\n",
        "\n",
        "model = tf.keras.Sequential([keras.layers.Dense(units=1, input_shape=[1])])"
      ],
      "metadata": {
        "id": "R-AHi4ViCF1Z"
      },
      "execution_count": 3,
      "outputs": []
    },
    {
      "cell_type": "code",
      "source": [
        "# Compiling the network using SGD optimizer and loss function Mean Squared error\n",
        "\n",
        "model.compile(optimizer='SGD', loss='mean_squared_error')"
      ],
      "metadata": {
        "id": "p9TW3n3pCstB"
      },
      "execution_count": 4,
      "outputs": []
    },
    {
      "cell_type": "code",
      "source": [
        "# Declaring the model inputs and outputs\n",
        "\n",
        "xs = np.array([-1.0, 0.0, 1.0, 2.0, 3.0, 4.0], dtype=float)\n",
        "ys = np.array([-3.0, -1.0, 1.0, 3.0, 5.0, 7.0], dtype=float)"
      ],
      "metadata": {
        "id": "370BA8MJDC-X"
      },
      "execution_count": 5,
      "outputs": []
    },
    {
      "cell_type": "code",
      "source": [
        "# Training the model\n",
        "\n",
        "model.fit(xs, ys, epochs = 15)"
      ],
      "metadata": {
        "colab": {
          "base_uri": "https://localhost:8080/"
        },
        "id": "BJhoGlEBDG6x",
        "outputId": "834467f4-a466-41cd-c8f4-6b4bbf837c72"
      },
      "execution_count": 6,
      "outputs": [
        {
          "output_type": "stream",
          "name": "stdout",
          "text": [
            "Epoch 1/15\n",
            "1/1 [==============================] - 0s 447ms/step - loss: 2.3508\n",
            "Epoch 2/15\n",
            "1/1 [==============================] - 0s 9ms/step - loss: 1.9979\n",
            "Epoch 3/15\n",
            "1/1 [==============================] - 0s 10ms/step - loss: 1.7172\n",
            "Epoch 4/15\n",
            "1/1 [==============================] - 0s 13ms/step - loss: 1.4933\n",
            "Epoch 5/15\n",
            "1/1 [==============================] - 0s 8ms/step - loss: 1.3143\n",
            "Epoch 6/15\n",
            "1/1 [==============================] - 0s 8ms/step - loss: 1.1706\n",
            "Epoch 7/15\n",
            "1/1 [==============================] - 0s 7ms/step - loss: 1.0547\n",
            "Epoch 8/15\n",
            "1/1 [==============================] - 0s 10ms/step - loss: 0.9608\n",
            "Epoch 9/15\n",
            "1/1 [==============================] - 0s 8ms/step - loss: 0.8842\n",
            "Epoch 10/15\n",
            "1/1 [==============================] - 0s 10ms/step - loss: 0.8213\n",
            "Epoch 11/15\n",
            "1/1 [==============================] - 0s 6ms/step - loss: 0.7693\n",
            "Epoch 12/15\n",
            "1/1 [==============================] - 0s 10ms/step - loss: 0.7258\n",
            "Epoch 13/15\n",
            "1/1 [==============================] - 0s 6ms/step - loss: 0.6891\n",
            "Epoch 14/15\n",
            "1/1 [==============================] - 0s 6ms/step - loss: 0.6578\n",
            "Epoch 15/15\n",
            "1/1 [==============================] - 0s 6ms/step - loss: 0.6308\n"
          ]
        },
        {
          "output_type": "execute_result",
          "data": {
            "text/plain": [
              "<keras.callbacks.History at 0x7fea6cd6fb20>"
            ]
          },
          "metadata": {},
          "execution_count": 6
        }
      ]
    },
    {
      "cell_type": "code",
      "source": [
        "# Predicting\n",
        "\n",
        "model.predict([10.0])"
      ],
      "metadata": {
        "colab": {
          "base_uri": "https://localhost:8080/"
        },
        "id": "C5jQwJ9EDNEJ",
        "outputId": "ff233253-50a4-4092-f21b-6e28db64359d"
      },
      "execution_count": 7,
      "outputs": [
        {
          "output_type": "stream",
          "name": "stdout",
          "text": [
            "1/1 [==============================] - 0s 83ms/step\n"
          ]
        },
        {
          "output_type": "execute_result",
          "data": {
            "text/plain": [
              "array([[15.926113]], dtype=float32)"
            ]
          },
          "metadata": {},
          "execution_count": 7
        }
      ]
    }
  ]
}